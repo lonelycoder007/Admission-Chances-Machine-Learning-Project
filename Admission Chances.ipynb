{
 "cells": [
  {
   "cell_type": "markdown",
   "id": "24644045",
   "metadata": {
    "papermill": {
     "duration": 0.009484,
     "end_time": "2023-03-14T14:26:20.265012",
     "exception": false,
     "start_time": "2023-03-14T14:26:20.255528",
     "status": "completed"
    },
    "tags": []
   },
   "source": [
    "# **Admission Chance**"
   ]
  },
  {
   "cell_type": "markdown",
   "id": "045950ae",
   "metadata": {
    "papermill": {
     "duration": 0.007828,
     "end_time": "2023-03-14T14:26:20.281305",
     "exception": false,
     "start_time": "2023-03-14T14:26:20.273477",
     "status": "completed"
    },
    "tags": []
   },
   "source": [
    "# **Data Preparation Stage**"
   ]
  },
  {
   "cell_type": "code",
   "execution_count": 1,
   "id": "147d703b",
   "metadata": {
    "execution": {
     "iopub.execute_input": "2023-03-14T14:26:20.299615Z",
     "iopub.status.busy": "2023-03-14T14:26:20.299131Z",
     "iopub.status.idle": "2023-03-14T14:26:21.519265Z",
     "shell.execute_reply": "2023-03-14T14:26:21.518145Z"
    },
    "papermill": {
     "duration": 1.233047,
     "end_time": "2023-03-14T14:26:21.522511",
     "exception": false,
     "start_time": "2023-03-14T14:26:20.289464",
     "status": "completed"
    },
    "tags": []
   },
   "outputs": [],
   "source": [
    "# import library\n",
    "import pandas as pd\n",
    "import numpy as np\n",
    "import matplotlib.pyplot as plt\n",
    "import seaborn as sns"
   ]
  },
  {
   "cell_type": "code",
   "execution_count": 2,
   "id": "4403c0cc",
   "metadata": {
    "execution": {
     "iopub.execute_input": "2023-03-14T14:26:21.542264Z",
     "iopub.status.busy": "2023-03-14T14:26:21.541768Z",
     "iopub.status.idle": "2023-03-14T14:26:21.883934Z",
     "shell.execute_reply": "2023-03-14T14:26:21.882554Z"
    },
    "papermill": {
     "duration": 0.355108,
     "end_time": "2023-03-14T14:26:21.886392",
     "exception": false,
     "start_time": "2023-03-14T14:26:21.531284",
     "status": "completed"
    },
    "tags": []
   },
   "outputs": [
    {
     "data": {
      "text/html": [
       "<div>\n",
       "<style scoped>\n",
       "    .dataframe tbody tr th:only-of-type {\n",
       "        vertical-align: middle;\n",
       "    }\n",
       "\n",
       "    .dataframe tbody tr th {\n",
       "        vertical-align: top;\n",
       "    }\n",
       "\n",
       "    .dataframe thead th {\n",
       "        text-align: right;\n",
       "    }\n",
       "</style>\n",
       "<table border=\"1\" class=\"dataframe\">\n",
       "  <thead>\n",
       "    <tr style=\"text-align: right;\">\n",
       "      <th></th>\n",
       "      <th>Serial No</th>\n",
       "      <th>GRE Score</th>\n",
       "      <th>TOEFL Score</th>\n",
       "      <th>University Rating</th>\n",
       "      <th>SOP</th>\n",
       "      <th>LOR</th>\n",
       "      <th>CGPA</th>\n",
       "      <th>Research</th>\n",
       "      <th>Chance of Admit</th>\n",
       "    </tr>\n",
       "  </thead>\n",
       "  <tbody>\n",
       "    <tr>\n",
       "      <th>0</th>\n",
       "      <td>1</td>\n",
       "      <td>337</td>\n",
       "      <td>118</td>\n",
       "      <td>4</td>\n",
       "      <td>4.5</td>\n",
       "      <td>4.5</td>\n",
       "      <td>9.65</td>\n",
       "      <td>1</td>\n",
       "      <td>0.92</td>\n",
       "    </tr>\n",
       "    <tr>\n",
       "      <th>1</th>\n",
       "      <td>2</td>\n",
       "      <td>324</td>\n",
       "      <td>107</td>\n",
       "      <td>4</td>\n",
       "      <td>4.0</td>\n",
       "      <td>4.5</td>\n",
       "      <td>8.87</td>\n",
       "      <td>1</td>\n",
       "      <td>0.76</td>\n",
       "    </tr>\n",
       "    <tr>\n",
       "      <th>2</th>\n",
       "      <td>3</td>\n",
       "      <td>316</td>\n",
       "      <td>104</td>\n",
       "      <td>3</td>\n",
       "      <td>3.0</td>\n",
       "      <td>3.5</td>\n",
       "      <td>8.00</td>\n",
       "      <td>1</td>\n",
       "      <td>0.72</td>\n",
       "    </tr>\n",
       "    <tr>\n",
       "      <th>3</th>\n",
       "      <td>4</td>\n",
       "      <td>322</td>\n",
       "      <td>110</td>\n",
       "      <td>3</td>\n",
       "      <td>3.5</td>\n",
       "      <td>2.5</td>\n",
       "      <td>8.67</td>\n",
       "      <td>1</td>\n",
       "      <td>0.80</td>\n",
       "    </tr>\n",
       "    <tr>\n",
       "      <th>4</th>\n",
       "      <td>5</td>\n",
       "      <td>314</td>\n",
       "      <td>103</td>\n",
       "      <td>2</td>\n",
       "      <td>2.0</td>\n",
       "      <td>3.0</td>\n",
       "      <td>8.21</td>\n",
       "      <td>0</td>\n",
       "      <td>0.65</td>\n",
       "    </tr>\n",
       "  </tbody>\n",
       "</table>\n",
       "</div>"
      ],
      "text/plain": [
       "   Serial No  GRE Score  TOEFL Score  University Rating   SOP  LOR   CGPA  \\\n",
       "0          1        337          118                  4   4.5   4.5  9.65   \n",
       "1          2        324          107                  4   4.0   4.5  8.87   \n",
       "2          3        316          104                  3   3.0   3.5  8.00   \n",
       "3          4        322          110                  3   3.5   2.5  8.67   \n",
       "4          5        314          103                  2   2.0   3.0  8.21   \n",
       "\n",
       "   Research  Chance of Admit   \n",
       "0         1              0.92  \n",
       "1         1              0.76  \n",
       "2         1              0.72  \n",
       "3         1              0.80  \n",
       "4         0              0.65  "
      ]
     },
     "execution_count": 2,
     "metadata": {},
     "output_type": "execute_result"
    }
   ],
   "source": [
    "# read data\n",
    "df = pd.read_csv(\"Admission Chance.csv\")\n",
    "df.head()"
   ]
  },
  {
   "cell_type": "code",
   "execution_count": 3,
   "id": "6d054fc4",
   "metadata": {
    "execution": {
     "iopub.execute_input": "2023-03-14T14:26:21.905788Z",
     "iopub.status.busy": "2023-03-14T14:26:21.905281Z",
     "iopub.status.idle": "2023-03-14T14:26:21.917314Z",
     "shell.execute_reply": "2023-03-14T14:26:21.916065Z"
    },
    "papermill": {
     "duration": 0.025089,
     "end_time": "2023-03-14T14:26:21.920258",
     "exception": false,
     "start_time": "2023-03-14T14:26:21.895169",
     "status": "completed"
    },
    "tags": []
   },
   "outputs": [],
   "source": [
    "# define target and features\n",
    "y = df['Chance of Admit ']\n",
    "X = df.drop(['Serial No','Chance of Admit '],axis=1)"
   ]
  },
  {
   "cell_type": "markdown",
   "id": "64d12d7e",
   "metadata": {
    "papermill": {
     "duration": 0.008284,
     "end_time": "2023-03-14T14:26:21.937304",
     "exception": false,
     "start_time": "2023-03-14T14:26:21.929020",
     "status": "completed"
    },
    "tags": []
   },
   "source": [
    "# **Model Selection Stage**"
   ]
  },
  {
   "cell_type": "code",
   "execution_count": 4,
   "id": "9645f21e",
   "metadata": {
    "execution": {
     "iopub.execute_input": "2023-03-14T14:26:21.956947Z",
     "iopub.status.busy": "2023-03-14T14:26:21.956425Z",
     "iopub.status.idle": "2023-03-14T14:26:22.181304Z",
     "shell.execute_reply": "2023-03-14T14:26:22.179827Z"
    },
    "papermill": {
     "duration": 0.238013,
     "end_time": "2023-03-14T14:26:22.184385",
     "exception": false,
     "start_time": "2023-03-14T14:26:21.946372",
     "status": "completed"
    },
    "tags": []
   },
   "outputs": [],
   "source": [
    "# split into train and test sample\n",
    "from sklearn.model_selection import train_test_split\n",
    "X_train,X_test,y_train,y_test=train_test_split(X,y,train_size=0.8,random_state=2529)"
   ]
  },
  {
   "cell_type": "code",
   "execution_count": 5,
   "id": "75c60263",
   "metadata": {
    "execution": {
     "iopub.execute_input": "2023-03-14T14:26:22.204702Z",
     "iopub.status.busy": "2023-03-14T14:26:22.204243Z",
     "iopub.status.idle": "2023-03-14T14:26:22.434015Z",
     "shell.execute_reply": "2023-03-14T14:26:22.432712Z"
    },
    "papermill": {
     "duration": 0.242904,
     "end_time": "2023-03-14T14:26:22.436997",
     "exception": false,
     "start_time": "2023-03-14T14:26:22.194093",
     "status": "completed"
    },
    "tags": []
   },
   "outputs": [],
   "source": [
    "# select model\n",
    "from sklearn.tree import DecisionTreeRegressor,plot_tree\n",
    "dtr=DecisionTreeRegressor(max_depth=3, random_state=2529)"
   ]
  },
  {
   "cell_type": "code",
   "execution_count": 6,
   "id": "bc5cedcb",
   "metadata": {
    "execution": {
     "iopub.execute_input": "2023-03-14T14:26:22.456041Z",
     "iopub.status.busy": "2023-03-14T14:26:22.455557Z",
     "iopub.status.idle": "2023-03-14T14:26:22.473162Z",
     "shell.execute_reply": "2023-03-14T14:26:22.471853Z"
    },
    "papermill": {
     "duration": 0.030578,
     "end_time": "2023-03-14T14:26:22.476029",
     "exception": false,
     "start_time": "2023-03-14T14:26:22.445451",
     "status": "completed"
    },
    "tags": []
   },
   "outputs": [
    {
     "data": {
      "text/html": [
       "<style>#sk-container-id-1 {color: black;}#sk-container-id-1 pre{padding: 0;}#sk-container-id-1 div.sk-toggleable {background-color: white;}#sk-container-id-1 label.sk-toggleable__label {cursor: pointer;display: block;width: 100%;margin-bottom: 0;padding: 0.3em;box-sizing: border-box;text-align: center;}#sk-container-id-1 label.sk-toggleable__label-arrow:before {content: \"▸\";float: left;margin-right: 0.25em;color: #696969;}#sk-container-id-1 label.sk-toggleable__label-arrow:hover:before {color: black;}#sk-container-id-1 div.sk-estimator:hover label.sk-toggleable__label-arrow:before {color: black;}#sk-container-id-1 div.sk-toggleable__content {max-height: 0;max-width: 0;overflow: hidden;text-align: left;background-color: #f0f8ff;}#sk-container-id-1 div.sk-toggleable__content pre {margin: 0.2em;color: black;border-radius: 0.25em;background-color: #f0f8ff;}#sk-container-id-1 input.sk-toggleable__control:checked~div.sk-toggleable__content {max-height: 200px;max-width: 100%;overflow: auto;}#sk-container-id-1 input.sk-toggleable__control:checked~label.sk-toggleable__label-arrow:before {content: \"▾\";}#sk-container-id-1 div.sk-estimator input.sk-toggleable__control:checked~label.sk-toggleable__label {background-color: #d4ebff;}#sk-container-id-1 div.sk-label input.sk-toggleable__control:checked~label.sk-toggleable__label {background-color: #d4ebff;}#sk-container-id-1 input.sk-hidden--visually {border: 0;clip: rect(1px 1px 1px 1px);clip: rect(1px, 1px, 1px, 1px);height: 1px;margin: -1px;overflow: hidden;padding: 0;position: absolute;width: 1px;}#sk-container-id-1 div.sk-estimator {font-family: monospace;background-color: #f0f8ff;border: 1px dotted black;border-radius: 0.25em;box-sizing: border-box;margin-bottom: 0.5em;}#sk-container-id-1 div.sk-estimator:hover {background-color: #d4ebff;}#sk-container-id-1 div.sk-parallel-item::after {content: \"\";width: 100%;border-bottom: 1px solid gray;flex-grow: 1;}#sk-container-id-1 div.sk-label:hover label.sk-toggleable__label {background-color: #d4ebff;}#sk-container-id-1 div.sk-serial::before {content: \"\";position: absolute;border-left: 1px solid gray;box-sizing: border-box;top: 0;bottom: 0;left: 50%;z-index: 0;}#sk-container-id-1 div.sk-serial {display: flex;flex-direction: column;align-items: center;background-color: white;padding-right: 0.2em;padding-left: 0.2em;position: relative;}#sk-container-id-1 div.sk-item {position: relative;z-index: 1;}#sk-container-id-1 div.sk-parallel {display: flex;align-items: stretch;justify-content: center;background-color: white;position: relative;}#sk-container-id-1 div.sk-item::before, #sk-container-id-1 div.sk-parallel-item::before {content: \"\";position: absolute;border-left: 1px solid gray;box-sizing: border-box;top: 0;bottom: 0;left: 50%;z-index: -1;}#sk-container-id-1 div.sk-parallel-item {display: flex;flex-direction: column;z-index: 1;position: relative;background-color: white;}#sk-container-id-1 div.sk-parallel-item:first-child::after {align-self: flex-end;width: 50%;}#sk-container-id-1 div.sk-parallel-item:last-child::after {align-self: flex-start;width: 50%;}#sk-container-id-1 div.sk-parallel-item:only-child::after {width: 0;}#sk-container-id-1 div.sk-dashed-wrapped {border: 1px dashed gray;margin: 0 0.4em 0.5em 0.4em;box-sizing: border-box;padding-bottom: 0.4em;background-color: white;}#sk-container-id-1 div.sk-label label {font-family: monospace;font-weight: bold;display: inline-block;line-height: 1.2em;}#sk-container-id-1 div.sk-label-container {text-align: center;}#sk-container-id-1 div.sk-container {/* jupyter's `normalize.less` sets `[hidden] { display: none; }` but bootstrap.min.css set `[hidden] { display: none !important; }` so we also need the `!important` here to be able to override the default hidden behavior on the sphinx rendered scikit-learn.org. See: https://github.com/scikit-learn/scikit-learn/issues/21755 */display: inline-block !important;position: relative;}#sk-container-id-1 div.sk-text-repr-fallback {display: none;}</style><div id=\"sk-container-id-1\" class=\"sk-top-container\"><div class=\"sk-text-repr-fallback\"><pre>DecisionTreeRegressor(max_depth=3, random_state=2529)</pre><b>In a Jupyter environment, please rerun this cell to show the HTML representation or trust the notebook. <br />On GitHub, the HTML representation is unable to render, please try loading this page with nbviewer.org.</b></div><div class=\"sk-container\" hidden><div class=\"sk-item\"><div class=\"sk-estimator sk-toggleable\"><input class=\"sk-toggleable__control sk-hidden--visually\" id=\"sk-estimator-id-1\" type=\"checkbox\" checked><label for=\"sk-estimator-id-1\" class=\"sk-toggleable__label sk-toggleable__label-arrow\">DecisionTreeRegressor</label><div class=\"sk-toggleable__content\"><pre>DecisionTreeRegressor(max_depth=3, random_state=2529)</pre></div></div></div></div></div>"
      ],
      "text/plain": [
       "DecisionTreeRegressor(max_depth=3, random_state=2529)"
      ]
     },
     "execution_count": 6,
     "metadata": {},
     "output_type": "execute_result"
    }
   ],
   "source": [
    "# train model\n",
    "dtr.fit(X_train,y_train)"
   ]
  },
  {
   "cell_type": "code",
   "execution_count": 7,
   "id": "1762d994",
   "metadata": {
    "execution": {
     "iopub.execute_input": "2023-03-14T14:26:22.495583Z",
     "iopub.status.busy": "2023-03-14T14:26:22.494748Z",
     "iopub.status.idle": "2023-03-14T14:26:22.506116Z",
     "shell.execute_reply": "2023-03-14T14:26:22.504847Z"
    },
    "papermill": {
     "duration": 0.024021,
     "end_time": "2023-03-14T14:26:22.508583",
     "exception": false,
     "start_time": "2023-03-14T14:26:22.484562",
     "status": "completed"
    },
    "tags": []
   },
   "outputs": [
    {
     "data": {
      "text/plain": [
       "0.7738322816632399"
      ]
     },
     "execution_count": 7,
     "metadata": {},
     "output_type": "execute_result"
    }
   ],
   "source": [
    "# evaluate the model on training sample\n",
    "dtr.score(X_train,y_train)"
   ]
  },
  {
   "cell_type": "code",
   "execution_count": 8,
   "id": "2fcb2459",
   "metadata": {
    "execution": {
     "iopub.execute_input": "2023-03-14T14:26:22.527948Z",
     "iopub.status.busy": "2023-03-14T14:26:22.527138Z",
     "iopub.status.idle": "2023-03-14T14:26:22.565253Z",
     "shell.execute_reply": "2023-03-14T14:26:22.563842Z"
    },
    "papermill": {
     "duration": 0.050875,
     "end_time": "2023-03-14T14:26:22.568134",
     "exception": false,
     "start_time": "2023-03-14T14:26:22.517259",
     "status": "completed"
    },
    "tags": []
   },
   "outputs": [
    {
     "data": {
      "text/plain": [
       "{'fit_time': array([0.00339293, 0.00291228, 0.00212002, 0.00471592, 0.00208259]),\n",
       " 'score_time': array([0.00510216, 0.00300527, 0.        , 0.00199342, 0.00095415]),\n",
       " 'test_score': array([0.62738225, 0.74911799, 0.55230282, 0.8131547 , 0.7219827 ])}"
      ]
     },
     "execution_count": 8,
     "metadata": {},
     "output_type": "execute_result"
    }
   ],
   "source": [
    "# cross validate model on train sample\n",
    "from sklearn.model_selection import cross_validate\n",
    "cross_validate(dtr, X_train, y_train, cv=5)"
   ]
  },
  {
   "cell_type": "code",
   "execution_count": 9,
   "id": "387d7a5d",
   "metadata": {
    "execution": {
     "iopub.execute_input": "2023-03-14T14:26:22.588543Z",
     "iopub.status.busy": "2023-03-14T14:26:22.587429Z",
     "iopub.status.idle": "2023-03-14T14:26:22.597980Z",
     "shell.execute_reply": "2023-03-14T14:26:22.596841Z"
    },
    "papermill": {
     "duration": 0.023257,
     "end_time": "2023-03-14T14:26:22.600252",
     "exception": false,
     "start_time": "2023-03-14T14:26:22.576995",
     "status": "completed"
    },
    "tags": []
   },
   "outputs": [
    {
     "data": {
      "text/plain": [
       "0.7533283237506997"
      ]
     },
     "execution_count": 9,
     "metadata": {},
     "output_type": "execute_result"
    }
   ],
   "source": [
    "# evaluate the model on the test sample\n",
    "dtr.score(X_test,y_test)"
   ]
  },
  {
   "cell_type": "markdown",
   "id": "2a524f74",
   "metadata": {
    "papermill": {
     "duration": 0.008484,
     "end_time": "2023-03-14T14:26:22.617584",
     "exception": false,
     "start_time": "2023-03-14T14:26:22.609100",
     "status": "completed"
    },
    "tags": []
   },
   "source": [
    "# **Model Validation Stage**"
   ]
  },
  {
   "cell_type": "code",
   "execution_count": 10,
   "id": "d22135ec",
   "metadata": {
    "execution": {
     "iopub.execute_input": "2023-03-14T14:26:22.637485Z",
     "iopub.status.busy": "2023-03-14T14:26:22.636998Z",
     "iopub.status.idle": "2023-03-14T14:26:22.645977Z",
     "shell.execute_reply": "2023-03-14T14:26:22.644584Z"
    },
    "papermill": {
     "duration": 0.022079,
     "end_time": "2023-03-14T14:26:22.648581",
     "exception": false,
     "start_time": "2023-03-14T14:26:22.626502",
     "status": "completed"
    },
    "tags": []
   },
   "outputs": [
    {
     "data": {
      "text/plain": [
       "{'ccp_alpha': 0.0,\n",
       " 'criterion': 'squared_error',\n",
       " 'max_depth': 3,\n",
       " 'max_features': None,\n",
       " 'max_leaf_nodes': None,\n",
       " 'min_impurity_decrease': 0.0,\n",
       " 'min_samples_leaf': 1,\n",
       " 'min_samples_split': 2,\n",
       " 'min_weight_fraction_leaf': 0.0,\n",
       " 'random_state': 2529,\n",
       " 'splitter': 'best'}"
      ]
     },
     "execution_count": 10,
     "metadata": {},
     "output_type": "execute_result"
    }
   ],
   "source": [
    "# model hyperparameters\n",
    "dtr.get_params()"
   ]
  },
  {
   "cell_type": "code",
   "execution_count": 11,
   "id": "e1a3830c",
   "metadata": {
    "execution": {
     "iopub.execute_input": "2023-03-14T14:26:22.668683Z",
     "iopub.status.busy": "2023-03-14T14:26:22.668211Z",
     "iopub.status.idle": "2023-03-14T14:26:22.674465Z",
     "shell.execute_reply": "2023-03-14T14:26:22.673022Z"
    },
    "papermill": {
     "duration": 0.019925,
     "end_time": "2023-03-14T14:26:22.677401",
     "exception": false,
     "start_time": "2023-03-14T14:26:22.657476",
     "status": "completed"
    },
    "tags": []
   },
   "outputs": [],
   "source": [
    "# hyperparameters selection\n",
    "params = {'model__max_depth' : [2,3,4,5,6,7,8, 9, 10],\n",
    "        'model__criterion' : ['squared_error', 'absolute_error'],\n",
    "        'model__random_state' : [2529]}"
   ]
  },
  {
   "cell_type": "code",
   "execution_count": 12,
   "id": "f8e819d1",
   "metadata": {
    "execution": {
     "iopub.execute_input": "2023-03-14T14:26:22.697635Z",
     "iopub.status.busy": "2023-03-14T14:26:22.697132Z",
     "iopub.status.idle": "2023-03-14T14:26:22.711041Z",
     "shell.execute_reply": "2023-03-14T14:26:22.709729Z"
    },
    "papermill": {
     "duration": 0.027753,
     "end_time": "2023-03-14T14:26:22.714236",
     "exception": false,
     "start_time": "2023-03-14T14:26:22.686483",
     "status": "completed"
    },
    "tags": []
   },
   "outputs": [],
   "source": [
    "# import pipeline\n",
    "from sklearn.pipeline import Pipeline"
   ]
  },
  {
   "cell_type": "code",
   "execution_count": 13,
   "id": "b30b57bc",
   "metadata": {
    "execution": {
     "iopub.execute_input": "2023-03-14T14:26:22.735991Z",
     "iopub.status.busy": "2023-03-14T14:26:22.734671Z",
     "iopub.status.idle": "2023-03-14T14:26:22.740603Z",
     "shell.execute_reply": "2023-03-14T14:26:22.739376Z"
    },
    "papermill": {
     "duration": 0.019791,
     "end_time": "2023-03-14T14:26:22.743246",
     "exception": false,
     "start_time": "2023-03-14T14:26:22.723455",
     "status": "completed"
    },
    "tags": []
   },
   "outputs": [],
   "source": [
    "# define pipe line\n",
    "pipe = Pipeline([('model', dtr)])"
   ]
  },
  {
   "cell_type": "code",
   "execution_count": 14,
   "id": "426cafe2",
   "metadata": {
    "execution": {
     "iopub.execute_input": "2023-03-14T14:26:22.763796Z",
     "iopub.status.busy": "2023-03-14T14:26:22.763186Z",
     "iopub.status.idle": "2023-03-14T14:26:22.769362Z",
     "shell.execute_reply": "2023-03-14T14:26:22.768014Z"
    },
    "papermill": {
     "duration": 0.019994,
     "end_time": "2023-03-14T14:26:22.772244",
     "exception": false,
     "start_time": "2023-03-14T14:26:22.752250",
     "status": "completed"
    },
    "tags": []
   },
   "outputs": [],
   "source": [
    "# grid search cv\n",
    "from sklearn.model_selection import GridSearchCV\n",
    "grid = GridSearchCV(pipe,params,cv=5)"
   ]
  },
  {
   "cell_type": "code",
   "execution_count": 15,
   "id": "52515831",
   "metadata": {
    "execution": {
     "iopub.execute_input": "2023-03-14T14:26:22.794077Z",
     "iopub.status.busy": "2023-03-14T14:26:22.792632Z",
     "iopub.status.idle": "2023-03-14T14:26:22.809217Z",
     "shell.execute_reply": "2023-03-14T14:26:22.807526Z"
    },
    "papermill": {
     "duration": 0.030996,
     "end_time": "2023-03-14T14:26:22.812293",
     "exception": false,
     "start_time": "2023-03-14T14:26:22.781297",
     "status": "completed"
    },
    "tags": []
   },
   "outputs": [
    {
     "data": {
      "text/html": [
       "<style>#sk-container-id-2 {color: black;}#sk-container-id-2 pre{padding: 0;}#sk-container-id-2 div.sk-toggleable {background-color: white;}#sk-container-id-2 label.sk-toggleable__label {cursor: pointer;display: block;width: 100%;margin-bottom: 0;padding: 0.3em;box-sizing: border-box;text-align: center;}#sk-container-id-2 label.sk-toggleable__label-arrow:before {content: \"▸\";float: left;margin-right: 0.25em;color: #696969;}#sk-container-id-2 label.sk-toggleable__label-arrow:hover:before {color: black;}#sk-container-id-2 div.sk-estimator:hover label.sk-toggleable__label-arrow:before {color: black;}#sk-container-id-2 div.sk-toggleable__content {max-height: 0;max-width: 0;overflow: hidden;text-align: left;background-color: #f0f8ff;}#sk-container-id-2 div.sk-toggleable__content pre {margin: 0.2em;color: black;border-radius: 0.25em;background-color: #f0f8ff;}#sk-container-id-2 input.sk-toggleable__control:checked~div.sk-toggleable__content {max-height: 200px;max-width: 100%;overflow: auto;}#sk-container-id-2 input.sk-toggleable__control:checked~label.sk-toggleable__label-arrow:before {content: \"▾\";}#sk-container-id-2 div.sk-estimator input.sk-toggleable__control:checked~label.sk-toggleable__label {background-color: #d4ebff;}#sk-container-id-2 div.sk-label input.sk-toggleable__control:checked~label.sk-toggleable__label {background-color: #d4ebff;}#sk-container-id-2 input.sk-hidden--visually {border: 0;clip: rect(1px 1px 1px 1px);clip: rect(1px, 1px, 1px, 1px);height: 1px;margin: -1px;overflow: hidden;padding: 0;position: absolute;width: 1px;}#sk-container-id-2 div.sk-estimator {font-family: monospace;background-color: #f0f8ff;border: 1px dotted black;border-radius: 0.25em;box-sizing: border-box;margin-bottom: 0.5em;}#sk-container-id-2 div.sk-estimator:hover {background-color: #d4ebff;}#sk-container-id-2 div.sk-parallel-item::after {content: \"\";width: 100%;border-bottom: 1px solid gray;flex-grow: 1;}#sk-container-id-2 div.sk-label:hover label.sk-toggleable__label {background-color: #d4ebff;}#sk-container-id-2 div.sk-serial::before {content: \"\";position: absolute;border-left: 1px solid gray;box-sizing: border-box;top: 0;bottom: 0;left: 50%;z-index: 0;}#sk-container-id-2 div.sk-serial {display: flex;flex-direction: column;align-items: center;background-color: white;padding-right: 0.2em;padding-left: 0.2em;position: relative;}#sk-container-id-2 div.sk-item {position: relative;z-index: 1;}#sk-container-id-2 div.sk-parallel {display: flex;align-items: stretch;justify-content: center;background-color: white;position: relative;}#sk-container-id-2 div.sk-item::before, #sk-container-id-2 div.sk-parallel-item::before {content: \"\";position: absolute;border-left: 1px solid gray;box-sizing: border-box;top: 0;bottom: 0;left: 50%;z-index: -1;}#sk-container-id-2 div.sk-parallel-item {display: flex;flex-direction: column;z-index: 1;position: relative;background-color: white;}#sk-container-id-2 div.sk-parallel-item:first-child::after {align-self: flex-end;width: 50%;}#sk-container-id-2 div.sk-parallel-item:last-child::after {align-self: flex-start;width: 50%;}#sk-container-id-2 div.sk-parallel-item:only-child::after {width: 0;}#sk-container-id-2 div.sk-dashed-wrapped {border: 1px dashed gray;margin: 0 0.4em 0.5em 0.4em;box-sizing: border-box;padding-bottom: 0.4em;background-color: white;}#sk-container-id-2 div.sk-label label {font-family: monospace;font-weight: bold;display: inline-block;line-height: 1.2em;}#sk-container-id-2 div.sk-label-container {text-align: center;}#sk-container-id-2 div.sk-container {/* jupyter's `normalize.less` sets `[hidden] { display: none; }` but bootstrap.min.css set `[hidden] { display: none !important; }` so we also need the `!important` here to be able to override the default hidden behavior on the sphinx rendered scikit-learn.org. See: https://github.com/scikit-learn/scikit-learn/issues/21755 */display: inline-block !important;position: relative;}#sk-container-id-2 div.sk-text-repr-fallback {display: none;}</style><div id=\"sk-container-id-2\" class=\"sk-top-container\"><div class=\"sk-text-repr-fallback\"><pre>GridSearchCV(cv=5,\n",
       "             estimator=Pipeline(steps=[(&#x27;model&#x27;,\n",
       "                                        DecisionTreeRegressor(max_depth=3,\n",
       "                                                              random_state=2529))]),\n",
       "             param_grid={&#x27;model__criterion&#x27;: [&#x27;squared_error&#x27;,\n",
       "                                              &#x27;absolute_error&#x27;],\n",
       "                         &#x27;model__max_depth&#x27;: [2, 3, 4, 5, 6, 7, 8, 9, 10],\n",
       "                         &#x27;model__random_state&#x27;: [2529]})</pre><b>In a Jupyter environment, please rerun this cell to show the HTML representation or trust the notebook. <br />On GitHub, the HTML representation is unable to render, please try loading this page with nbviewer.org.</b></div><div class=\"sk-container\" hidden><div class=\"sk-item sk-dashed-wrapped\"><div class=\"sk-label-container\"><div class=\"sk-label sk-toggleable\"><input class=\"sk-toggleable__control sk-hidden--visually\" id=\"sk-estimator-id-2\" type=\"checkbox\" ><label for=\"sk-estimator-id-2\" class=\"sk-toggleable__label sk-toggleable__label-arrow\">GridSearchCV</label><div class=\"sk-toggleable__content\"><pre>GridSearchCV(cv=5,\n",
       "             estimator=Pipeline(steps=[(&#x27;model&#x27;,\n",
       "                                        DecisionTreeRegressor(max_depth=3,\n",
       "                                                              random_state=2529))]),\n",
       "             param_grid={&#x27;model__criterion&#x27;: [&#x27;squared_error&#x27;,\n",
       "                                              &#x27;absolute_error&#x27;],\n",
       "                         &#x27;model__max_depth&#x27;: [2, 3, 4, 5, 6, 7, 8, 9, 10],\n",
       "                         &#x27;model__random_state&#x27;: [2529]})</pre></div></div></div><div class=\"sk-parallel\"><div class=\"sk-parallel-item\"><div class=\"sk-item\"><div class=\"sk-label-container\"><div class=\"sk-label sk-toggleable\"><input class=\"sk-toggleable__control sk-hidden--visually\" id=\"sk-estimator-id-3\" type=\"checkbox\" ><label for=\"sk-estimator-id-3\" class=\"sk-toggleable__label sk-toggleable__label-arrow\">estimator: Pipeline</label><div class=\"sk-toggleable__content\"><pre>Pipeline(steps=[(&#x27;model&#x27;,\n",
       "                 DecisionTreeRegressor(max_depth=3, random_state=2529))])</pre></div></div></div><div class=\"sk-serial\"><div class=\"sk-item\"><div class=\"sk-serial\"><div class=\"sk-item\"><div class=\"sk-estimator sk-toggleable\"><input class=\"sk-toggleable__control sk-hidden--visually\" id=\"sk-estimator-id-4\" type=\"checkbox\" ><label for=\"sk-estimator-id-4\" class=\"sk-toggleable__label sk-toggleable__label-arrow\">DecisionTreeRegressor</label><div class=\"sk-toggleable__content\"><pre>DecisionTreeRegressor(max_depth=3, random_state=2529)</pre></div></div></div></div></div></div></div></div></div></div></div></div>"
      ],
      "text/plain": [
       "GridSearchCV(cv=5,\n",
       "             estimator=Pipeline(steps=[('model',\n",
       "                                        DecisionTreeRegressor(max_depth=3,\n",
       "                                                              random_state=2529))]),\n",
       "             param_grid={'model__criterion': ['squared_error',\n",
       "                                              'absolute_error'],\n",
       "                         'model__max_depth': [2, 3, 4, 5, 6, 7, 8, 9, 10],\n",
       "                         'model__random_state': [2529]})"
      ]
     },
     "execution_count": 15,
     "metadata": {},
     "output_type": "execute_result"
    }
   ],
   "source": [
    "grid"
   ]
  },
  {
   "cell_type": "code",
   "execution_count": 16,
   "id": "8046a6ce",
   "metadata": {
    "execution": {
     "iopub.execute_input": "2023-03-14T14:26:22.833382Z",
     "iopub.status.busy": "2023-03-14T14:26:22.832938Z",
     "iopub.status.idle": "2023-03-14T14:26:23.579326Z",
     "shell.execute_reply": "2023-03-14T14:26:23.577816Z"
    },
    "papermill": {
     "duration": 0.761183,
     "end_time": "2023-03-14T14:26:23.582880",
     "exception": false,
     "start_time": "2023-03-14T14:26:22.821697",
     "status": "completed"
    },
    "tags": []
   },
   "outputs": [
    {
     "data": {
      "text/html": [
       "<style>#sk-container-id-3 {color: black;}#sk-container-id-3 pre{padding: 0;}#sk-container-id-3 div.sk-toggleable {background-color: white;}#sk-container-id-3 label.sk-toggleable__label {cursor: pointer;display: block;width: 100%;margin-bottom: 0;padding: 0.3em;box-sizing: border-box;text-align: center;}#sk-container-id-3 label.sk-toggleable__label-arrow:before {content: \"▸\";float: left;margin-right: 0.25em;color: #696969;}#sk-container-id-3 label.sk-toggleable__label-arrow:hover:before {color: black;}#sk-container-id-3 div.sk-estimator:hover label.sk-toggleable__label-arrow:before {color: black;}#sk-container-id-3 div.sk-toggleable__content {max-height: 0;max-width: 0;overflow: hidden;text-align: left;background-color: #f0f8ff;}#sk-container-id-3 div.sk-toggleable__content pre {margin: 0.2em;color: black;border-radius: 0.25em;background-color: #f0f8ff;}#sk-container-id-3 input.sk-toggleable__control:checked~div.sk-toggleable__content {max-height: 200px;max-width: 100%;overflow: auto;}#sk-container-id-3 input.sk-toggleable__control:checked~label.sk-toggleable__label-arrow:before {content: \"▾\";}#sk-container-id-3 div.sk-estimator input.sk-toggleable__control:checked~label.sk-toggleable__label {background-color: #d4ebff;}#sk-container-id-3 div.sk-label input.sk-toggleable__control:checked~label.sk-toggleable__label {background-color: #d4ebff;}#sk-container-id-3 input.sk-hidden--visually {border: 0;clip: rect(1px 1px 1px 1px);clip: rect(1px, 1px, 1px, 1px);height: 1px;margin: -1px;overflow: hidden;padding: 0;position: absolute;width: 1px;}#sk-container-id-3 div.sk-estimator {font-family: monospace;background-color: #f0f8ff;border: 1px dotted black;border-radius: 0.25em;box-sizing: border-box;margin-bottom: 0.5em;}#sk-container-id-3 div.sk-estimator:hover {background-color: #d4ebff;}#sk-container-id-3 div.sk-parallel-item::after {content: \"\";width: 100%;border-bottom: 1px solid gray;flex-grow: 1;}#sk-container-id-3 div.sk-label:hover label.sk-toggleable__label {background-color: #d4ebff;}#sk-container-id-3 div.sk-serial::before {content: \"\";position: absolute;border-left: 1px solid gray;box-sizing: border-box;top: 0;bottom: 0;left: 50%;z-index: 0;}#sk-container-id-3 div.sk-serial {display: flex;flex-direction: column;align-items: center;background-color: white;padding-right: 0.2em;padding-left: 0.2em;position: relative;}#sk-container-id-3 div.sk-item {position: relative;z-index: 1;}#sk-container-id-3 div.sk-parallel {display: flex;align-items: stretch;justify-content: center;background-color: white;position: relative;}#sk-container-id-3 div.sk-item::before, #sk-container-id-3 div.sk-parallel-item::before {content: \"\";position: absolute;border-left: 1px solid gray;box-sizing: border-box;top: 0;bottom: 0;left: 50%;z-index: -1;}#sk-container-id-3 div.sk-parallel-item {display: flex;flex-direction: column;z-index: 1;position: relative;background-color: white;}#sk-container-id-3 div.sk-parallel-item:first-child::after {align-self: flex-end;width: 50%;}#sk-container-id-3 div.sk-parallel-item:last-child::after {align-self: flex-start;width: 50%;}#sk-container-id-3 div.sk-parallel-item:only-child::after {width: 0;}#sk-container-id-3 div.sk-dashed-wrapped {border: 1px dashed gray;margin: 0 0.4em 0.5em 0.4em;box-sizing: border-box;padding-bottom: 0.4em;background-color: white;}#sk-container-id-3 div.sk-label label {font-family: monospace;font-weight: bold;display: inline-block;line-height: 1.2em;}#sk-container-id-3 div.sk-label-container {text-align: center;}#sk-container-id-3 div.sk-container {/* jupyter's `normalize.less` sets `[hidden] { display: none; }` but bootstrap.min.css set `[hidden] { display: none !important; }` so we also need the `!important` here to be able to override the default hidden behavior on the sphinx rendered scikit-learn.org. See: https://github.com/scikit-learn/scikit-learn/issues/21755 */display: inline-block !important;position: relative;}#sk-container-id-3 div.sk-text-repr-fallback {display: none;}</style><div id=\"sk-container-id-3\" class=\"sk-top-container\"><div class=\"sk-text-repr-fallback\"><pre>GridSearchCV(cv=5,\n",
       "             estimator=Pipeline(steps=[(&#x27;model&#x27;,\n",
       "                                        DecisionTreeRegressor(max_depth=3,\n",
       "                                                              random_state=2529))]),\n",
       "             param_grid={&#x27;model__criterion&#x27;: [&#x27;squared_error&#x27;,\n",
       "                                              &#x27;absolute_error&#x27;],\n",
       "                         &#x27;model__max_depth&#x27;: [2, 3, 4, 5, 6, 7, 8, 9, 10],\n",
       "                         &#x27;model__random_state&#x27;: [2529]})</pre><b>In a Jupyter environment, please rerun this cell to show the HTML representation or trust the notebook. <br />On GitHub, the HTML representation is unable to render, please try loading this page with nbviewer.org.</b></div><div class=\"sk-container\" hidden><div class=\"sk-item sk-dashed-wrapped\"><div class=\"sk-label-container\"><div class=\"sk-label sk-toggleable\"><input class=\"sk-toggleable__control sk-hidden--visually\" id=\"sk-estimator-id-5\" type=\"checkbox\" ><label for=\"sk-estimator-id-5\" class=\"sk-toggleable__label sk-toggleable__label-arrow\">GridSearchCV</label><div class=\"sk-toggleable__content\"><pre>GridSearchCV(cv=5,\n",
       "             estimator=Pipeline(steps=[(&#x27;model&#x27;,\n",
       "                                        DecisionTreeRegressor(max_depth=3,\n",
       "                                                              random_state=2529))]),\n",
       "             param_grid={&#x27;model__criterion&#x27;: [&#x27;squared_error&#x27;,\n",
       "                                              &#x27;absolute_error&#x27;],\n",
       "                         &#x27;model__max_depth&#x27;: [2, 3, 4, 5, 6, 7, 8, 9, 10],\n",
       "                         &#x27;model__random_state&#x27;: [2529]})</pre></div></div></div><div class=\"sk-parallel\"><div class=\"sk-parallel-item\"><div class=\"sk-item\"><div class=\"sk-label-container\"><div class=\"sk-label sk-toggleable\"><input class=\"sk-toggleable__control sk-hidden--visually\" id=\"sk-estimator-id-6\" type=\"checkbox\" ><label for=\"sk-estimator-id-6\" class=\"sk-toggleable__label sk-toggleable__label-arrow\">estimator: Pipeline</label><div class=\"sk-toggleable__content\"><pre>Pipeline(steps=[(&#x27;model&#x27;,\n",
       "                 DecisionTreeRegressor(max_depth=3, random_state=2529))])</pre></div></div></div><div class=\"sk-serial\"><div class=\"sk-item\"><div class=\"sk-serial\"><div class=\"sk-item\"><div class=\"sk-estimator sk-toggleable\"><input class=\"sk-toggleable__control sk-hidden--visually\" id=\"sk-estimator-id-7\" type=\"checkbox\" ><label for=\"sk-estimator-id-7\" class=\"sk-toggleable__label sk-toggleable__label-arrow\">DecisionTreeRegressor</label><div class=\"sk-toggleable__content\"><pre>DecisionTreeRegressor(max_depth=3, random_state=2529)</pre></div></div></div></div></div></div></div></div></div></div></div></div>"
      ],
      "text/plain": [
       "GridSearchCV(cv=5,\n",
       "             estimator=Pipeline(steps=[('model',\n",
       "                                        DecisionTreeRegressor(max_depth=3,\n",
       "                                                              random_state=2529))]),\n",
       "             param_grid={'model__criterion': ['squared_error',\n",
       "                                              'absolute_error'],\n",
       "                         'model__max_depth': [2, 3, 4, 5, 6, 7, 8, 9, 10],\n",
       "                         'model__random_state': [2529]})"
      ]
     },
     "execution_count": 16,
     "metadata": {},
     "output_type": "execute_result"
    }
   ],
   "source": [
    "# train grid search\n",
    "grid.fit(X_train,y_train)"
   ]
  },
  {
   "cell_type": "code",
   "execution_count": 17,
   "id": "afa6b3db",
   "metadata": {
    "execution": {
     "iopub.execute_input": "2023-03-14T14:26:23.603961Z",
     "iopub.status.busy": "2023-03-14T14:26:23.603432Z",
     "iopub.status.idle": "2023-03-14T14:26:23.611254Z",
     "shell.execute_reply": "2023-03-14T14:26:23.610175Z"
    },
    "papermill": {
     "duration": 0.021353,
     "end_time": "2023-03-14T14:26:23.613693",
     "exception": false,
     "start_time": "2023-03-14T14:26:23.592340",
     "status": "completed"
    },
    "tags": []
   },
   "outputs": [
    {
     "data": {
      "text/plain": [
       "{'model__criterion': 'squared_error',\n",
       " 'model__max_depth': 3,\n",
       " 'model__random_state': 2529}"
      ]
     },
     "execution_count": 17,
     "metadata": {},
     "output_type": "execute_result"
    }
   ],
   "source": [
    "# find best parama\n",
    "grid.best_params_"
   ]
  },
  {
   "cell_type": "code",
   "execution_count": 18,
   "id": "970eb09d",
   "metadata": {
    "execution": {
     "iopub.execute_input": "2023-03-14T14:26:23.635392Z",
     "iopub.status.busy": "2023-03-14T14:26:23.634074Z",
     "iopub.status.idle": "2023-03-14T14:26:23.640254Z",
     "shell.execute_reply": "2023-03-14T14:26:23.639154Z"
    },
    "papermill": {
     "duration": 0.019601,
     "end_time": "2023-03-14T14:26:23.642731",
     "exception": false,
     "start_time": "2023-03-14T14:26:23.623130",
     "status": "completed"
    },
    "tags": []
   },
   "outputs": [],
   "source": [
    "# select best estimator\n",
    "best = grid.best_estimator_"
   ]
  },
  {
   "cell_type": "code",
   "execution_count": 19,
   "id": "6a0092a1",
   "metadata": {
    "execution": {
     "iopub.execute_input": "2023-03-14T14:26:23.664528Z",
     "iopub.status.busy": "2023-03-14T14:26:23.663275Z",
     "iopub.status.idle": "2023-03-14T14:26:23.676289Z",
     "shell.execute_reply": "2023-03-14T14:26:23.674869Z"
    },
    "papermill": {
     "duration": 0.026909,
     "end_time": "2023-03-14T14:26:23.679140",
     "exception": false,
     "start_time": "2023-03-14T14:26:23.652231",
     "status": "completed"
    },
    "tags": []
   },
   "outputs": [
    {
     "data": {
      "text/html": [
       "<style>#sk-container-id-4 {color: black;}#sk-container-id-4 pre{padding: 0;}#sk-container-id-4 div.sk-toggleable {background-color: white;}#sk-container-id-4 label.sk-toggleable__label {cursor: pointer;display: block;width: 100%;margin-bottom: 0;padding: 0.3em;box-sizing: border-box;text-align: center;}#sk-container-id-4 label.sk-toggleable__label-arrow:before {content: \"▸\";float: left;margin-right: 0.25em;color: #696969;}#sk-container-id-4 label.sk-toggleable__label-arrow:hover:before {color: black;}#sk-container-id-4 div.sk-estimator:hover label.sk-toggleable__label-arrow:before {color: black;}#sk-container-id-4 div.sk-toggleable__content {max-height: 0;max-width: 0;overflow: hidden;text-align: left;background-color: #f0f8ff;}#sk-container-id-4 div.sk-toggleable__content pre {margin: 0.2em;color: black;border-radius: 0.25em;background-color: #f0f8ff;}#sk-container-id-4 input.sk-toggleable__control:checked~div.sk-toggleable__content {max-height: 200px;max-width: 100%;overflow: auto;}#sk-container-id-4 input.sk-toggleable__control:checked~label.sk-toggleable__label-arrow:before {content: \"▾\";}#sk-container-id-4 div.sk-estimator input.sk-toggleable__control:checked~label.sk-toggleable__label {background-color: #d4ebff;}#sk-container-id-4 div.sk-label input.sk-toggleable__control:checked~label.sk-toggleable__label {background-color: #d4ebff;}#sk-container-id-4 input.sk-hidden--visually {border: 0;clip: rect(1px 1px 1px 1px);clip: rect(1px, 1px, 1px, 1px);height: 1px;margin: -1px;overflow: hidden;padding: 0;position: absolute;width: 1px;}#sk-container-id-4 div.sk-estimator {font-family: monospace;background-color: #f0f8ff;border: 1px dotted black;border-radius: 0.25em;box-sizing: border-box;margin-bottom: 0.5em;}#sk-container-id-4 div.sk-estimator:hover {background-color: #d4ebff;}#sk-container-id-4 div.sk-parallel-item::after {content: \"\";width: 100%;border-bottom: 1px solid gray;flex-grow: 1;}#sk-container-id-4 div.sk-label:hover label.sk-toggleable__label {background-color: #d4ebff;}#sk-container-id-4 div.sk-serial::before {content: \"\";position: absolute;border-left: 1px solid gray;box-sizing: border-box;top: 0;bottom: 0;left: 50%;z-index: 0;}#sk-container-id-4 div.sk-serial {display: flex;flex-direction: column;align-items: center;background-color: white;padding-right: 0.2em;padding-left: 0.2em;position: relative;}#sk-container-id-4 div.sk-item {position: relative;z-index: 1;}#sk-container-id-4 div.sk-parallel {display: flex;align-items: stretch;justify-content: center;background-color: white;position: relative;}#sk-container-id-4 div.sk-item::before, #sk-container-id-4 div.sk-parallel-item::before {content: \"\";position: absolute;border-left: 1px solid gray;box-sizing: border-box;top: 0;bottom: 0;left: 50%;z-index: -1;}#sk-container-id-4 div.sk-parallel-item {display: flex;flex-direction: column;z-index: 1;position: relative;background-color: white;}#sk-container-id-4 div.sk-parallel-item:first-child::after {align-self: flex-end;width: 50%;}#sk-container-id-4 div.sk-parallel-item:last-child::after {align-self: flex-start;width: 50%;}#sk-container-id-4 div.sk-parallel-item:only-child::after {width: 0;}#sk-container-id-4 div.sk-dashed-wrapped {border: 1px dashed gray;margin: 0 0.4em 0.5em 0.4em;box-sizing: border-box;padding-bottom: 0.4em;background-color: white;}#sk-container-id-4 div.sk-label label {font-family: monospace;font-weight: bold;display: inline-block;line-height: 1.2em;}#sk-container-id-4 div.sk-label-container {text-align: center;}#sk-container-id-4 div.sk-container {/* jupyter's `normalize.less` sets `[hidden] { display: none; }` but bootstrap.min.css set `[hidden] { display: none !important; }` so we also need the `!important` here to be able to override the default hidden behavior on the sphinx rendered scikit-learn.org. See: https://github.com/scikit-learn/scikit-learn/issues/21755 */display: inline-block !important;position: relative;}#sk-container-id-4 div.sk-text-repr-fallback {display: none;}</style><div id=\"sk-container-id-4\" class=\"sk-top-container\"><div class=\"sk-text-repr-fallback\"><pre>Pipeline(steps=[(&#x27;model&#x27;,\n",
       "                 DecisionTreeRegressor(max_depth=3, random_state=2529))])</pre><b>In a Jupyter environment, please rerun this cell to show the HTML representation or trust the notebook. <br />On GitHub, the HTML representation is unable to render, please try loading this page with nbviewer.org.</b></div><div class=\"sk-container\" hidden><div class=\"sk-item sk-dashed-wrapped\"><div class=\"sk-label-container\"><div class=\"sk-label sk-toggleable\"><input class=\"sk-toggleable__control sk-hidden--visually\" id=\"sk-estimator-id-8\" type=\"checkbox\" ><label for=\"sk-estimator-id-8\" class=\"sk-toggleable__label sk-toggleable__label-arrow\">Pipeline</label><div class=\"sk-toggleable__content\"><pre>Pipeline(steps=[(&#x27;model&#x27;,\n",
       "                 DecisionTreeRegressor(max_depth=3, random_state=2529))])</pre></div></div></div><div class=\"sk-serial\"><div class=\"sk-item\"><div class=\"sk-estimator sk-toggleable\"><input class=\"sk-toggleable__control sk-hidden--visually\" id=\"sk-estimator-id-9\" type=\"checkbox\" ><label for=\"sk-estimator-id-9\" class=\"sk-toggleable__label sk-toggleable__label-arrow\">DecisionTreeRegressor</label><div class=\"sk-toggleable__content\"><pre>DecisionTreeRegressor(max_depth=3, random_state=2529)</pre></div></div></div></div></div></div></div>"
      ],
      "text/plain": [
       "Pipeline(steps=[('model',\n",
       "                 DecisionTreeRegressor(max_depth=3, random_state=2529))])"
      ]
     },
     "execution_count": 19,
     "metadata": {},
     "output_type": "execute_result"
    }
   ],
   "source": [
    "# fit best estimator\n",
    "best.fit(X_train,y_train)"
   ]
  },
  {
   "cell_type": "code",
   "execution_count": 20,
   "id": "398d4796",
   "metadata": {
    "execution": {
     "iopub.execute_input": "2023-03-14T14:26:23.701054Z",
     "iopub.status.busy": "2023-03-14T14:26:23.699764Z",
     "iopub.status.idle": "2023-03-14T14:26:23.708276Z",
     "shell.execute_reply": "2023-03-14T14:26:23.706872Z"
    },
    "papermill": {
     "duration": 0.022271,
     "end_time": "2023-03-14T14:26:23.711067",
     "exception": false,
     "start_time": "2023-03-14T14:26:23.688796",
     "status": "completed"
    },
    "tags": []
   },
   "outputs": [],
   "source": [
    "# predict with best estimator\n",
    "y_pred=best.predict(X_test)"
   ]
  },
  {
   "cell_type": "code",
   "execution_count": 21,
   "id": "9ec44bf6",
   "metadata": {
    "execution": {
     "iopub.execute_input": "2023-03-14T14:26:23.732968Z",
     "iopub.status.busy": "2023-03-14T14:26:23.732002Z",
     "iopub.status.idle": "2023-03-14T14:26:23.737717Z",
     "shell.execute_reply": "2023-03-14T14:26:23.736743Z"
    },
    "papermill": {
     "duration": 0.019876,
     "end_time": "2023-03-14T14:26:23.740453",
     "exception": false,
     "start_time": "2023-03-14T14:26:23.720577",
     "status": "completed"
    },
    "tags": []
   },
   "outputs": [],
   "source": [
    "# model error\n",
    "from sklearn.metrics import mean_absolute_error, mean_absolute_percentage_error, r2_score"
   ]
  },
  {
   "cell_type": "code",
   "execution_count": 22,
   "id": "48dc18ec",
   "metadata": {
    "execution": {
     "iopub.execute_input": "2023-03-14T14:26:23.762595Z",
     "iopub.status.busy": "2023-03-14T14:26:23.761654Z",
     "iopub.status.idle": "2023-03-14T14:26:23.770610Z",
     "shell.execute_reply": "2023-03-14T14:26:23.769190Z"
    },
    "papermill": {
     "duration": 0.023353,
     "end_time": "2023-03-14T14:26:23.773497",
     "exception": false,
     "start_time": "2023-03-14T14:26:23.750144",
     "status": "completed"
    },
    "tags": []
   },
   "outputs": [
    {
     "data": {
      "text/plain": [
       "0.057160452637289014"
      ]
     },
     "execution_count": 22,
     "metadata": {},
     "output_type": "execute_result"
    }
   ],
   "source": [
    "# mean absolute error\n",
    "mean_absolute_error(y_test,y_pred)"
   ]
  },
  {
   "cell_type": "code",
   "execution_count": 23,
   "id": "24c4b27a",
   "metadata": {
    "execution": {
     "iopub.execute_input": "2023-03-14T14:26:23.798146Z",
     "iopub.status.busy": "2023-03-14T14:26:23.796252Z",
     "iopub.status.idle": "2023-03-14T14:26:23.806493Z",
     "shell.execute_reply": "2023-03-14T14:26:23.805179Z"
    },
    "papermill": {
     "duration": 0.026004,
     "end_time": "2023-03-14T14:26:23.809151",
     "exception": false,
     "start_time": "2023-03-14T14:26:23.783147",
     "status": "completed"
    },
    "tags": []
   },
   "outputs": [
    {
     "data": {
      "text/plain": [
       "0.09720961265635472"
      ]
     },
     "execution_count": 23,
     "metadata": {},
     "output_type": "execute_result"
    }
   ],
   "source": [
    "# mean absolute percentage error\n",
    "mean_absolute_percentage_error(y_test,y_pred)"
   ]
  },
  {
   "cell_type": "code",
   "execution_count": 24,
   "id": "32cd4856",
   "metadata": {
    "execution": {
     "iopub.execute_input": "2023-03-14T14:26:23.830674Z",
     "iopub.status.busy": "2023-03-14T14:26:23.829914Z",
     "iopub.status.idle": "2023-03-14T14:26:23.837430Z",
     "shell.execute_reply": "2023-03-14T14:26:23.836517Z"
    },
    "papermill": {
     "duration": 0.020948,
     "end_time": "2023-03-14T14:26:23.839681",
     "exception": false,
     "start_time": "2023-03-14T14:26:23.818733",
     "status": "completed"
    },
    "tags": []
   },
   "outputs": [
    {
     "data": {
      "text/plain": [
       "0.7533283237506997"
      ]
     },
     "execution_count": 24,
     "metadata": {},
     "output_type": "execute_result"
    }
   ],
   "source": [
    "# r square\n",
    "r2_score(y_test,y_pred)"
   ]
  },
  {
   "cell_type": "code",
   "execution_count": 25,
   "id": "1e77686b",
   "metadata": {
    "execution": {
     "iopub.execute_input": "2023-03-14T14:26:23.861811Z",
     "iopub.status.busy": "2023-03-14T14:26:23.860690Z",
     "iopub.status.idle": "2023-03-14T14:26:24.957394Z",
     "shell.execute_reply": "2023-03-14T14:26:24.956167Z"
    },
    "papermill": {
     "duration": 1.111563,
     "end_time": "2023-03-14T14:26:24.961021",
     "exception": false,
     "start_time": "2023-03-14T14:26:23.849458",
     "status": "completed"
    },
    "tags": []
   },
   "outputs": [
    {
     "data": {
      "image/png": "[encoded data removed]",
      "text/plain": [
       "<Figure size 1200x600 with 1 Axes>"
      ]
     },
     "metadata": {},
     "output_type": "display_data"
    }
   ],
   "source": [
    "# plot tree\n",
    "from sklearn.tree import DecisionTreeRegressor, plot_tree\n",
    "import matplotlib.pyplot as plt\n",
    "\n",
    "# Assuming X is your feature matrix\n",
    "feature_names = X.columns.tolist()  # Convert the index to a list\n",
    "\n",
    "final = DecisionTreeRegressor(max_depth=3, random_state=2529)\n",
    "final.fit(X_train, y_train)\n",
    "\n",
    "plt.figure(figsize=(12, 6))\n",
    "plot_tree(final, feature_names=feature_names, filled=True)\n",
    "plt.show()\n"
   ]
  },
  {
   "cell_type": "markdown",
   "id": "800c5a88",
   "metadata": {
    "papermill": {
     "duration": 0.011683,
     "end_time": "2023-03-14T14:26:24.984618",
     "exception": false,
     "start_time": "2023-03-14T14:26:24.972935",
     "status": "completed"
    },
    "tags": []
   },
   "source": [
    "# **Save Model**"
   ]
  },
  {
   "cell_type": "code",
   "execution_count": 26,
   "id": "7245a2d8",
   "metadata": {
    "execution": {
     "iopub.execute_input": "2023-03-14T14:26:25.010438Z",
     "iopub.status.busy": "2023-03-14T14:26:25.009966Z",
     "iopub.status.idle": "2023-03-14T14:26:25.014851Z",
     "shell.execute_reply": "2023-03-14T14:26:25.013937Z"
    },
    "papermill": {
     "duration": 0.020494,
     "end_time": "2023-03-14T14:26:25.016973",
     "exception": false,
     "start_time": "2023-03-14T14:26:24.996479",
     "status": "completed"
    },
    "tags": []
   },
   "outputs": [],
   "source": [
    "# save model\n",
    "import pickle\n",
    "\n",
    "# create an iterator object with write permission - model.pickle\n",
    "with open('dtr_pkl', 'wb') as files:\n",
    "    pickle.dump(best, files)\n",
    "\n",
    "# load saved model\n",
    "with open('dtr_pkl' , 'rb') as f:\n",
    "    dtr2 = pickle.load(f)\n",
    "    \n",
    "# predict with saved model\n",
    "dtr2.predict(X_test)"
   ]
  },
  {
   "cell_type": "code",
   "execution_count": 31,
   "id": "26db4c35",
   "metadata": {},
   "outputs": [
    {
     "name": "stdout",
     "output_type": "stream",
     "text": [
      "Pipeline(steps=[('model',\n",
      "                 DecisionTreeRegressor(max_depth=3, random_state=2529))])\n"
     ]
    }
   ],
   "source": [
    "import pickle\n",
    "\n",
    "# Load the saved model\n",
    "with open('dtr_pkl', 'rb') as f:\n",
    "    loaded_model = pickle.load(f)\n",
    "\n",
    "# Now you can inspect the loaded model or access its attributes and methods\n",
    "print(loaded_model)\n"
   ]
  }
 ],
 "metadata": {
  "kernelspec": {
   "display_name": "Python 3",
   "language": "python",
   "name": "python3"
  },
  "language_info": {
   "codemirror_mode": {
    "name": "ipython",
    "version": 3
   },
   "file_extension": ".py",
   "mimetype": "text/x-python",
   "name": "python",
   "nbconvert_exporter": "python",
   "pygments_lexer": "ipython3",
   "version": "3.11.5"
  },
  "papermill": {
   "default_parameters": {},
   "duration": 18.081023,
   "end_time": "2023-03-14T14:26:26.163473",
   "environment_variables": {},
   "exception": null,
   "input_path": "__notebook__.ipynb",
   "output_path": "__notebook__.ipynb",
   "parameters": {},
   "start_time": "2023-03-14T14:26:08.082450",
   "version": "2.4.0"
  }
 },
 "nbformat": 4,
 "nbformat_minor": 5
}
